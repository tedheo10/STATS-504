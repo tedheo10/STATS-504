{
  "cells": [
    {
      "cell_type": "markdown",
      "metadata": {
        "id": "view-in-github",
        "colab_type": "text"
      },
      "source": [
        "<a href=\"https://colab.research.google.com/github/tedheo10/STATS-504/blob/main/slides_blank.ipynb\" target=\"_parent\"><img src=\"https://colab.research.google.com/assets/colab-badge.svg\" alt=\"Open In Colab\"/></a>"
      ]
    },
    {
      "cell_type": "code",
      "execution_count": null,
      "metadata": {
        "id": "sx0zIjAqmS8e",
        "outputId": "b1b91917-f31a-4df0-bb98-b342ed38470a"
      },
      "outputs": [
        {
          "name": "stderr",
          "output_type": "stream",
          "text": [
            "── \u001b[1mAttaching core tidyverse packages\u001b[22m ──────────────────────── tidyverse 2.0.0 ──\n",
            "\u001b[32m✔\u001b[39m \u001b[34mdplyr    \u001b[39m 1.1.4     \u001b[32m✔\u001b[39m \u001b[34mreadr    \u001b[39m 2.1.5\n",
            "\u001b[32m✔\u001b[39m \u001b[34mforcats  \u001b[39m 1.0.0     \u001b[32m✔\u001b[39m \u001b[34mstringr  \u001b[39m 1.5.1\n",
            "\u001b[32m✔\u001b[39m \u001b[34mggplot2  \u001b[39m 3.5.2     \u001b[32m✔\u001b[39m \u001b[34mtibble   \u001b[39m 3.3.0\n",
            "\u001b[32m✔\u001b[39m \u001b[34mlubridate\u001b[39m 1.9.4     \u001b[32m✔\u001b[39m \u001b[34mtidyr    \u001b[39m 1.3.1\n",
            "\u001b[32m✔\u001b[39m \u001b[34mpurrr    \u001b[39m 1.1.0     \n",
            "── \u001b[1mConflicts\u001b[22m ────────────────────────────────────────── tidyverse_conflicts() ──\n",
            "\u001b[31m✖\u001b[39m \u001b[34mdplyr\u001b[39m::\u001b[32mfilter()\u001b[39m masks \u001b[34mstats\u001b[39m::filter()\n",
            "\u001b[31m✖\u001b[39m \u001b[34mdplyr\u001b[39m::\u001b[32mlag()\u001b[39m    masks \u001b[34mstats\u001b[39m::lag()\n",
            "\u001b[36mℹ\u001b[39m Use the conflicted package (\u001b[3m\u001b[34m<http://conflicted.r-lib.org/>\u001b[39m\u001b[23m) to force all conflicts to become errors\n"
          ]
        }
      ],
      "source": [
        "library(tidyverse)\n",
        "options(repr.plot.width = 10 , repr.plot.height = 6, repr.plot.res = 150,\n",
        "        jupyter.plot_mimetypes = \"image/png\")\n",
        "theme_set(theme_classic())"
      ]
    },
    {
      "cell_type": "markdown",
      "metadata": {
        "id": "Fap036STmS8g"
      },
      "source": [
        "# STATS 504\n",
        "## Week 2\n",
        "![babies](https://images.ctfassets.net/cnu0m8re1exe/PYLeBWr2QDF5yjyZwB5Iq/7509e49d1d621860c1d4c484243c23db/shutterstock_189429203.jpg)"
      ]
    },
    {
      "cell_type": "markdown",
      "metadata": {
        "id": "xTvjDenXmS8g"
      },
      "source": [
        "The US Social Security Administration keeps records of every child born in the United States each year. These records are available in aggregate form in a [public database](https://www.ssa.gov/oact/babynames/)."
      ]
    },
    {
      "cell_type": "markdown",
      "metadata": {
        "id": "0YhhDND3mS8g"
      },
      "source": [
        "We are interested in understanding more about baby names"
      ]
    },
    {
      "cell_type": "code",
      "execution_count": null,
      "metadata": {
        "id": "hukCn9sumS8h",
        "outputId": "3b0db9bf-e124-4be4-efcb-216721bead72"
      },
      "outputs": [
        {
          "name": "stdout",
          "output_type": "stream",
          "text": [
            "\n",
            "The downloaded binary packages are in\n",
            "\t/var/folders/ng/qcb7p5f14nl6kwpxnh6rz73h0000gn/T//RtmpVqSwii/downloaded_packages\n"
          ]
        },
        {
          "data": {
            "text/html": [
              "<table class=\"dataframe\">\n",
              "<caption>A tibble: 1 × 1</caption>\n",
              "<thead>\n",
              "\t<tr><th scope=col>s</th></tr>\n",
              "\t<tr><th scope=col>&lt;int&gt;</th></tr>\n",
              "</thead>\n",
              "<tbody>\n",
              "\t<tr><td>91668</td></tr>\n",
              "</tbody>\n",
              "</table>\n"
            ],
            "text/latex": [
              "A tibble: 1 × 1\n",
              "\\begin{tabular}{l}\n",
              " s\\\\\n",
              " <int>\\\\\n",
              "\\hline\n",
              "\t 91668\\\\\n",
              "\\end{tabular}\n"
            ],
            "text/markdown": [
              "\n",
              "A tibble: 1 × 1\n",
              "\n",
              "| s &lt;int&gt; |\n",
              "|---|\n",
              "| 91668 |\n",
              "\n"
            ],
            "text/plain": [
              "  s    \n",
              "1 91668"
            ]
          },
          "metadata": {},
          "output_type": "display_data"
        }
      ],
      "source": [
        "#install.packages(\"babynames\")\n",
        "library(babynames)\n",
        "babynames %>% filter(year < 1890, name == \"Mary\", sex == \"F\") %>% summarize(s = sum(n))"
      ]
    },
    {
      "cell_type": "code",
      "execution_count": null,
      "metadata": {
        "id": "IS7zRVcImS8h",
        "outputId": "ee39e327-8385-4c61-9ce2-076b0f360f58"
      },
      "outputs": [
        {
          "name": "stderr",
          "output_type": "stream",
          "text": [
            "\u001b[1mRows: \u001b[22m\u001b[34m1924665\u001b[39m \u001b[1mColumns: \u001b[22m\u001b[34m5\u001b[39m\n",
            "\u001b[36m──\u001b[39m \u001b[1mColumn specification\u001b[22m \u001b[36m────────────────────────────────────────────────────────\u001b[39m\n",
            "\u001b[1mDelimiter:\u001b[22m \",\"\n",
            "\u001b[31mchr\u001b[39m (2): sex, name\n",
            "\u001b[32mdbl\u001b[39m (3): year, n, prop\n",
            "\n",
            "\u001b[36mℹ\u001b[39m Use `spec()` to retrieve the full column specification for this data.\n",
            "\u001b[36mℹ\u001b[39m Specify the column types or set `show_col_types = FALSE` to quiet this message.\n"
          ]
        }
      ],
      "source": [
        "babynames <- read_csv(\"babynames.csv.gz\")"
      ]
    },
    {
      "cell_type": "code",
      "execution_count": null,
      "metadata": {
        "id": "flan9GOlmS8h"
      },
      "outputs": [],
      "source": []
    },
    {
      "cell_type": "markdown",
      "metadata": {
        "id": "sCHG9hfgmS8h"
      },
      "source": [
        "<img src=\"https://beam-images.warnermediacdn.com/BEAM_LWM_DELIVERABLES/52dae4c7-2ab1-4bb9-ab1c-8100fd54e2f9/525e19cadd275c68e933773cc3bdad91a12fe10e.jpg?submitted=1684658977805&host=wbd-images.prod-vod.h264.io&partner=beamcom\">"
      ]
    },
    {
      "cell_type": "code",
      "execution_count": null,
      "metadata": {
        "id": "5Nt592Q2mS8h"
      },
      "outputs": [],
      "source": []
    },
    {
      "cell_type": "markdown",
      "metadata": {
        "id": "TM_idBD_mS8h"
      },
      "source": [
        "## Eternal names\n",
        "The most common name each year is:"
      ]
    },
    {
      "cell_type": "code",
      "execution_count": null,
      "metadata": {
        "id": "2wigx4wZmS8i"
      },
      "outputs": [],
      "source": []
    },
    {
      "cell_type": "markdown",
      "metadata": {
        "id": "d5vSQSSSmS8i"
      },
      "source": [
        "We see that Mary and John were extremely popular names in the late 19th century."
      ]
    },
    {
      "cell_type": "markdown",
      "metadata": {
        "id": "pMe56V_YmS8i"
      },
      "source": [
        "## &#129300; Quiz\n",
        "\n",
        "Call a name *eternal* if it is among the most 30 common names for its gender in *every* year of data.\n",
        "\n",
        "John is eternal, but Mary is not. Including John there are four eternal boy names, and one eternal girl name.\n",
        "\n",
        "What is the eternal girl's name?\n",
        "\n",
        "<ol style=\"list-style-type: upper-alpha;\">\n",
        "    <li>Anna</li>\n",
        "    <li>Elizabeth</li>\n",
        "    <li>Khloe</li>\n",
        "    <li>Spike</li>\n",
        "    <li>Margaret</li>\n",
        "</ol>"
      ]
    },
    {
      "cell_type": "markdown",
      "metadata": {
        "id": "DkjX_TqGmS8i"
      },
      "source": [
        "## Naming trends driven by migration\n",
        "What fraction of male names ended in \"o\", or female names in \"a\", over time?"
      ]
    },
    {
      "cell_type": "code",
      "execution_count": null,
      "metadata": {
        "id": "TZpHImMymS8i",
        "outputId": "16c69c0f-6cf0-45b7-cb90-6a5793878f10"
      },
      "outputs": [
        {
          "data": {
            "text/html": [
              "'m'"
            ],
            "text/latex": [
              "'m'"
            ],
            "text/markdown": [
              "'m'"
            ],
            "text/plain": [
              "[1] \"m\""
            ]
          },
          "metadata": {},
          "output_type": "display_data"
        }
      ],
      "source": [
        "stringr::str_sub('km', -1)"
      ]
    },
    {
      "cell_type": "code",
      "execution_count": null,
      "metadata": {
        "id": "eBqNAFmJmS8i"
      },
      "outputs": [],
      "source": []
    },
    {
      "cell_type": "markdown",
      "metadata": {
        "lines_to_next_cell": 0,
        "id": "N5Jq3hGGmS8i"
      },
      "source": [
        "## First letter\n",
        "Does the first letter of a name show evidence of trends in popularity over time?"
      ]
    },
    {
      "cell_type": "code",
      "execution_count": null,
      "metadata": {
        "id": "UeYpmJXVmS8j"
      },
      "outputs": [],
      "source": []
    },
    {
      "cell_type": "markdown",
      "metadata": {
        "id": "Ngii1eS2mS8j"
      },
      "source": [
        "I find this plot hard to interpret (too busy). Perhaps a table would work better. Let's look at the most common first letter by decade:"
      ]
    },
    {
      "cell_type": "code",
      "execution_count": null,
      "metadata": {
        "id": "_X0EdLmemS8j"
      },
      "outputs": [],
      "source": []
    },
    {
      "cell_type": "markdown",
      "metadata": {
        "id": "MgIcidf_mS8j"
      },
      "source": [
        "## Naming diversity\n",
        "Has the variety of names increased over time? How can we measure this?\n",
        "\n",
        "- Number of unique names/year\n",
        "- Entropy\n",
        "- Inequality measure (Gini coefficient)"
      ]
    },
    {
      "cell_type": "code",
      "execution_count": null,
      "metadata": {
        "id": "9W8b75IMmS8j"
      },
      "outputs": [],
      "source": []
    },
    {
      "cell_type": "markdown",
      "metadata": {
        "id": "qDjvOI5KmS8j"
      },
      "source": [
        "## Entropy\n",
        "The entropy of a discrete probability distribution is:\n",
        "\n",
        "$$H = -\\sum_i p_i \\log p_i$$"
      ]
    },
    {
      "cell_type": "code",
      "execution_count": null,
      "metadata": {
        "id": "s_fNzgwtmS8j"
      },
      "outputs": [],
      "source": []
    },
    {
      "cell_type": "markdown",
      "metadata": {
        "id": "WFRTPZbumS8j"
      },
      "source": [
        "## Gini's coefficient\n",
        "\n",
        "Gini's coefficient is another measure of inequality in a distribution. It is defined as:\n",
        "\n",
        "$$G = \\frac{\\sum_{i,j} |x_i - x_j|}{2 \\bar{x} n^2}$$\n",
        "\n",
        "\n",
        "\n",
        "Assuming $x_i\\ge 0$:\n",
        "\n",
        "- $G=0$: perfect equality.\n",
        "- $G=1$: \"perfect inequality\": one person has everything, everyone else has nothing.\n",
        "- $G \\ge 0$: obvious.\n",
        "- $G \\le 1$: obvious?"
      ]
    },
    {
      "cell_type": "code",
      "execution_count": null,
      "metadata": {
        "id": "4hg5ZldKmS8j",
        "outputId": "38e95a02-4774-4ae8-f36c-4f78d926ccda"
      },
      "outputs": [
        {
          "data": {
            "text/html": [
              "0.650666666666667"
            ],
            "text/latex": [
              "0.650666666666667"
            ],
            "text/markdown": [
              "0.650666666666667"
            ],
            "text/plain": [
              "[1] 0.6506667"
            ]
          },
          "metadata": {},
          "output_type": "display_data"
        }
      ],
      "source": [
        "gini <- function(xs) {\n",
        "    n <- length(xs)\n",
        "    D <- dist(xs, diag=T, upper=T) %>% as.matrix\n",
        "    mean(D) / 2 / mean(xs)\n",
        "}\n",
        "\n",
        "gini(c(1,1,123))"
      ]
    },
    {
      "cell_type": "code",
      "execution_count": null,
      "metadata": {
        "id": "mHmkdDu-mS8j",
        "outputId": "cb81cbcd-65b9-4392-c4e0-2e55d4ffc871"
      },
      "outputs": [
        {
          "name": "stderr",
          "output_type": "stream",
          "text": [
            "also installing the dependencies ‘checkmate’, ‘htmlTable’, ‘viridis’, ‘Hmisc’\n",
            "\n",
            "\n"
          ]
        },
        {
          "name": "stdout",
          "output_type": "stream",
          "text": [
            "\n",
            "The downloaded binary packages are in\n",
            "\t/var/folders/ng/qcb7p5f14nl6kwpxnh6rz73h0000gn/T//RtmpVqSwii/downloaded_packages\n"
          ]
        },
        {
          "data": {
            "text/html": [
              "0.833333332833333"
            ],
            "text/latex": [
              "0.833333332833333"
            ],
            "text/markdown": [
              "0.833333332833333"
            ],
            "text/plain": [
              "[1] 0.8333333"
            ]
          },
          "metadata": {},
          "output_type": "display_data"
        }
      ],
      "source": [
        "install.packages('dineq')\n",
        "library(dineq)\n",
        "gini.wtd(c(10000000000,1,1,1,1,1))"
      ]
    },
    {
      "cell_type": "code",
      "execution_count": null,
      "metadata": {
        "id": "Btsq513CmS8k"
      },
      "outputs": [],
      "source": []
    },
    {
      "cell_type": "markdown",
      "metadata": {
        "id": "ScZ2sstImS8k"
      },
      "source": [
        "The Gini index for both male and female names declines over time, indicating that name choices have become more diverse.\n",
        "\n",
        "Historically, baby names were concentrated around a small set of traditional names (high Gini), but in recent decades, naming has become less concentrated, with a wider variety of names being used (lower Gini).\n",
        "\n",
        "Female names generally show a lower Gini index than male names, reflecting greater diversity and faster changing trends in naming preferences for girls.\n"
      ]
    },
    {
      "cell_type": "markdown",
      "metadata": {
        "id": "NtdS8LVUmS8k"
      },
      "source": [
        "## Age vs. name\n",
        "Can you accurately predict someone's age based on their name and sex at birth? How should we approach this question?"
      ]
    },
    {
      "cell_type": "code",
      "execution_count": null,
      "metadata": {
        "id": "Zs1qP6fhmS8k"
      },
      "outputs": [],
      "source": []
    },
    {
      "cell_type": "markdown",
      "metadata": {
        "id": "5xoY0wbzmS8k"
      },
      "source": [
        "## Modeling\n",
        "When predicting someone's age based on name, we have to take into account two factors:\n",
        "\n",
        "- When were the most babies born with that name?\n",
        "- What is the likelihood that a person born in that year is still alive today?\n",
        "\n",
        "This naturally leads to an application of Bayes rule."
      ]
    },
    {
      "cell_type": "markdown",
      "metadata": {
        "id": "_FAnX2IrmS8k"
      },
      "source": [
        "## Bayesian model\n",
        "\n",
        "\n",
        "\n",
        "\n",
        "\\begin{gather}\n",
        "\\mathbb{P}(\\text{age}=a\\mid\\text{name})=\\mathbb{P}(\\text{birth year}=2024-a\\mid\\text{name})\n",
        "\\\\=\\mathbb{P}(\\text{name}\\mid\\text{birth year}=2024-a)\\frac{\\mathbb{P}(\\text{birth year}=2024-a)}{\\mathbb{P}(\\text{name})} \\\\\n",
        "\\propto  \\mathbb{P}(\\text{name}\\mid\\text{birth year}=2024-a)\\mathbb{P}(\\text{birth year}=2024-a)\n",
        "\\end{gather}"
      ]
    },
    {
      "cell_type": "markdown",
      "metadata": {
        "id": "0VYz4ctnmS8k"
      },
      "source": [
        "What are the quantities we would need to estimate?\n",
        "\n",
        "- $\\mathbb{P}(\\text{age}=a\\mid\\text{name})=\\mathbb{P}(\\text{birth year}=2024-a\\mid\\text{name})$:  ✅\n",
        "- $\\mathbb{P}(\\text{birth year}=2024-a)$: the age distribution of the current population."
      ]
    },
    {
      "cell_type": "markdown",
      "metadata": {
        "id": "eC5BhrO0mS8l"
      },
      "source": [
        "## Age distribution of the current population\n",
        "- The US Census has this information [readily available](https://www.census.gov/popclock/data_tables.php?component=pyramid).\n",
        "- (I downloaded the table by hand since their website makes it hard to automate.)"
      ]
    },
    {
      "cell_type": "code",
      "execution_count": null,
      "metadata": {
        "id": "WLFcM7A6mS8l",
        "outputId": "2908e2cb-e04d-48a7-ab7e-51f02ef915c8"
      },
      "outputs": [
        {
          "name": "stderr",
          "output_type": "stream",
          "text": [
            "Warning message:\n",
            "“\u001b[1m\u001b[22mOne or more parsing issues, call `problems()` on your data frame for details, e.g.:\n",
            "  dat <- vroom(...)\n",
            "  problems(dat)”\n",
            "\u001b[1mRows: \u001b[22m\u001b[34m307\u001b[39m \u001b[1mColumns: \u001b[22m\u001b[34m3\u001b[39m\n",
            "\u001b[36m──\u001b[39m \u001b[1mColumn specification\u001b[22m \u001b[36m──────────────────────────────────────────────────────────────────────────────────────────────────────────────────────────────────────────────────────────────────────────\u001b[39m\n",
            "\u001b[1mDelimiter:\u001b[22m \",\"\n",
            "\u001b[31mchr\u001b[39m (3): Age, Male % of Population, Female % of Population\n",
            "\n",
            "\u001b[36mℹ\u001b[39m Use `spec()` to retrieve the full column specification for this data.\n",
            "\u001b[36mℹ\u001b[39m Specify the column types or set `show_col_types = FALSE` to quiet this message.\n"
          ]
        },
        {
          "data": {
            "text/html": [
              "<table class=\"dataframe\">\n",
              "<caption>A tibble: 101 × 3</caption>\n",
              "<thead>\n",
              "\t<tr><th scope=col>Age</th><th scope=col>Male % of Population</th><th scope=col>Female % of Population</th></tr>\n",
              "\t<tr><th scope=col>&lt;dbl&gt;</th><th scope=col>&lt;dbl&gt;</th><th scope=col>&lt;dbl&gt;</th></tr>\n",
              "</thead>\n",
              "<tbody>\n",
              "\t<tr><td> 0</td><td>0.56</td><td>0.54</td></tr>\n",
              "\t<tr><td> 1</td><td>0.55</td><td>0.53</td></tr>\n",
              "\t<tr><td> 2</td><td>0.57</td><td>0.54</td></tr>\n",
              "\t<tr><td> 3</td><td>0.57</td><td>0.55</td></tr>\n",
              "\t<tr><td> 4</td><td>0.59</td><td>0.56</td></tr>\n",
              "\t<tr><td> 5</td><td>0.60</td><td>0.57</td></tr>\n",
              "\t<tr><td> 6</td><td>0.61</td><td>0.59</td></tr>\n",
              "\t<tr><td> 7</td><td>0.62</td><td>0.59</td></tr>\n",
              "\t<tr><td> 8</td><td>0.62</td><td>0.59</td></tr>\n",
              "\t<tr><td> 9</td><td>0.62</td><td>0.59</td></tr>\n",
              "\t<tr><td>10</td><td>0.62</td><td>0.59</td></tr>\n",
              "\t<tr><td>11</td><td>0.63</td><td>0.59</td></tr>\n",
              "\t<tr><td>12</td><td>0.64</td><td>0.61</td></tr>\n",
              "\t<tr><td>13</td><td>0.65</td><td>0.62</td></tr>\n",
              "\t<tr><td>14</td><td>0.68</td><td>0.64</td></tr>\n",
              "\t<tr><td>15</td><td>0.68</td><td>0.64</td></tr>\n",
              "\t<tr><td>16</td><td>0.66</td><td>0.63</td></tr>\n",
              "\t<tr><td>17</td><td>0.66</td><td>0.63</td></tr>\n",
              "\t<tr><td>18</td><td>0.66</td><td>0.63</td></tr>\n",
              "\t<tr><td>19</td><td>0.66</td><td>0.63</td></tr>\n",
              "\t<tr><td>20</td><td>0.68</td><td>0.65</td></tr>\n",
              "\t<tr><td>21</td><td>0.72</td><td>0.70</td></tr>\n",
              "\t<tr><td>22</td><td>0.72</td><td>0.68</td></tr>\n",
              "\t<tr><td>23</td><td>0.69</td><td>0.66</td></tr>\n",
              "\t<tr><td>24</td><td>0.68</td><td>0.64</td></tr>\n",
              "\t<tr><td>25</td><td>0.67</td><td>0.64</td></tr>\n",
              "\t<tr><td>26</td><td>0.67</td><td>0.64</td></tr>\n",
              "\t<tr><td>27</td><td>0.68</td><td>0.65</td></tr>\n",
              "\t<tr><td>28</td><td>0.69</td><td>0.66</td></tr>\n",
              "\t<tr><td>29</td><td>0.70</td><td>0.67</td></tr>\n",
              "\t<tr><td>⋮</td><td>⋮</td><td>⋮</td></tr>\n",
              "\t<tr><td> 71</td><td>0.44</td><td>0.50</td></tr>\n",
              "\t<tr><td> 72</td><td>0.42</td><td>0.48</td></tr>\n",
              "\t<tr><td> 73</td><td>0.40</td><td>0.47</td></tr>\n",
              "\t<tr><td> 74</td><td>0.39</td><td>0.46</td></tr>\n",
              "\t<tr><td> 75</td><td>0.41</td><td>0.48</td></tr>\n",
              "\t<tr><td> 76</td><td>0.28</td><td>0.34</td></tr>\n",
              "\t<tr><td> 77</td><td>0.27</td><td>0.33</td></tr>\n",
              "\t<tr><td> 78</td><td>0.26</td><td>0.32</td></tr>\n",
              "\t<tr><td> 79</td><td>0.25</td><td>0.32</td></tr>\n",
              "\t<tr><td> 80</td><td>0.21</td><td>0.27</td></tr>\n",
              "\t<tr><td> 81</td><td>0.19</td><td>0.25</td></tr>\n",
              "\t<tr><td> 82</td><td>0.17</td><td>0.23</td></tr>\n",
              "\t<tr><td> 83</td><td>0.15</td><td>0.21</td></tr>\n",
              "\t<tr><td> 84</td><td>0.13</td><td>0.19</td></tr>\n",
              "\t<tr><td> 85</td><td>0.12</td><td>0.17</td></tr>\n",
              "\t<tr><td> 86</td><td>0.10</td><td>0.16</td></tr>\n",
              "\t<tr><td> 87</td><td>0.09</td><td>0.15</td></tr>\n",
              "\t<tr><td> 88</td><td>0.07</td><td>0.13</td></tr>\n",
              "\t<tr><td> 89</td><td>0.06</td><td>0.12</td></tr>\n",
              "\t<tr><td> 90</td><td>0.05</td><td>0.10</td></tr>\n",
              "\t<tr><td> 91</td><td>0.05</td><td>0.09</td></tr>\n",
              "\t<tr><td> 92</td><td>0.04</td><td>0.08</td></tr>\n",
              "\t<tr><td> 93</td><td>0.03</td><td>0.06</td></tr>\n",
              "\t<tr><td> 94</td><td>0.02</td><td>0.05</td></tr>\n",
              "\t<tr><td> 95</td><td>0.02</td><td>0.04</td></tr>\n",
              "\t<tr><td> 96</td><td>0.01</td><td>0.03</td></tr>\n",
              "\t<tr><td> 97</td><td>0.01</td><td>0.02</td></tr>\n",
              "\t<tr><td> 98</td><td>0.01</td><td>0.02</td></tr>\n",
              "\t<tr><td> 99</td><td>0.00</td><td>0.01</td></tr>\n",
              "\t<tr><td>100</td><td>0.01</td><td>0.02</td></tr>\n",
              "</tbody>\n",
              "</table>\n"
            ],
            "text/latex": [
              "A tibble: 101 × 3\n",
              "\\begin{tabular}{lll}\n",
              " Age & Male \\% of Population & Female \\% of Population\\\\\n",
              " <dbl> & <dbl> & <dbl>\\\\\n",
              "\\hline\n",
              "\t  0 & 0.56 & 0.54\\\\\n",
              "\t  1 & 0.55 & 0.53\\\\\n",
              "\t  2 & 0.57 & 0.54\\\\\n",
              "\t  3 & 0.57 & 0.55\\\\\n",
              "\t  4 & 0.59 & 0.56\\\\\n",
              "\t  5 & 0.60 & 0.57\\\\\n",
              "\t  6 & 0.61 & 0.59\\\\\n",
              "\t  7 & 0.62 & 0.59\\\\\n",
              "\t  8 & 0.62 & 0.59\\\\\n",
              "\t  9 & 0.62 & 0.59\\\\\n",
              "\t 10 & 0.62 & 0.59\\\\\n",
              "\t 11 & 0.63 & 0.59\\\\\n",
              "\t 12 & 0.64 & 0.61\\\\\n",
              "\t 13 & 0.65 & 0.62\\\\\n",
              "\t 14 & 0.68 & 0.64\\\\\n",
              "\t 15 & 0.68 & 0.64\\\\\n",
              "\t 16 & 0.66 & 0.63\\\\\n",
              "\t 17 & 0.66 & 0.63\\\\\n",
              "\t 18 & 0.66 & 0.63\\\\\n",
              "\t 19 & 0.66 & 0.63\\\\\n",
              "\t 20 & 0.68 & 0.65\\\\\n",
              "\t 21 & 0.72 & 0.70\\\\\n",
              "\t 22 & 0.72 & 0.68\\\\\n",
              "\t 23 & 0.69 & 0.66\\\\\n",
              "\t 24 & 0.68 & 0.64\\\\\n",
              "\t 25 & 0.67 & 0.64\\\\\n",
              "\t 26 & 0.67 & 0.64\\\\\n",
              "\t 27 & 0.68 & 0.65\\\\\n",
              "\t 28 & 0.69 & 0.66\\\\\n",
              "\t 29 & 0.70 & 0.67\\\\\n",
              "\t ⋮ & ⋮ & ⋮\\\\\n",
              "\t  71 & 0.44 & 0.50\\\\\n",
              "\t  72 & 0.42 & 0.48\\\\\n",
              "\t  73 & 0.40 & 0.47\\\\\n",
              "\t  74 & 0.39 & 0.46\\\\\n",
              "\t  75 & 0.41 & 0.48\\\\\n",
              "\t  76 & 0.28 & 0.34\\\\\n",
              "\t  77 & 0.27 & 0.33\\\\\n",
              "\t  78 & 0.26 & 0.32\\\\\n",
              "\t  79 & 0.25 & 0.32\\\\\n",
              "\t  80 & 0.21 & 0.27\\\\\n",
              "\t  81 & 0.19 & 0.25\\\\\n",
              "\t  82 & 0.17 & 0.23\\\\\n",
              "\t  83 & 0.15 & 0.21\\\\\n",
              "\t  84 & 0.13 & 0.19\\\\\n",
              "\t  85 & 0.12 & 0.17\\\\\n",
              "\t  86 & 0.10 & 0.16\\\\\n",
              "\t  87 & 0.09 & 0.15\\\\\n",
              "\t  88 & 0.07 & 0.13\\\\\n",
              "\t  89 & 0.06 & 0.12\\\\\n",
              "\t  90 & 0.05 & 0.10\\\\\n",
              "\t  91 & 0.05 & 0.09\\\\\n",
              "\t  92 & 0.04 & 0.08\\\\\n",
              "\t  93 & 0.03 & 0.06\\\\\n",
              "\t  94 & 0.02 & 0.05\\\\\n",
              "\t  95 & 0.02 & 0.04\\\\\n",
              "\t  96 & 0.01 & 0.03\\\\\n",
              "\t  97 & 0.01 & 0.02\\\\\n",
              "\t  98 & 0.01 & 0.02\\\\\n",
              "\t  99 & 0.00 & 0.01\\\\\n",
              "\t 100 & 0.01 & 0.02\\\\\n",
              "\\end{tabular}\n"
            ],
            "text/markdown": [
              "\n",
              "A tibble: 101 × 3\n",
              "\n",
              "| Age &lt;dbl&gt; | Male % of Population &lt;dbl&gt; | Female % of Population &lt;dbl&gt; |\n",
              "|---|---|---|\n",
              "|  0 | 0.56 | 0.54 |\n",
              "|  1 | 0.55 | 0.53 |\n",
              "|  2 | 0.57 | 0.54 |\n",
              "|  3 | 0.57 | 0.55 |\n",
              "|  4 | 0.59 | 0.56 |\n",
              "|  5 | 0.60 | 0.57 |\n",
              "|  6 | 0.61 | 0.59 |\n",
              "|  7 | 0.62 | 0.59 |\n",
              "|  8 | 0.62 | 0.59 |\n",
              "|  9 | 0.62 | 0.59 |\n",
              "| 10 | 0.62 | 0.59 |\n",
              "| 11 | 0.63 | 0.59 |\n",
              "| 12 | 0.64 | 0.61 |\n",
              "| 13 | 0.65 | 0.62 |\n",
              "| 14 | 0.68 | 0.64 |\n",
              "| 15 | 0.68 | 0.64 |\n",
              "| 16 | 0.66 | 0.63 |\n",
              "| 17 | 0.66 | 0.63 |\n",
              "| 18 | 0.66 | 0.63 |\n",
              "| 19 | 0.66 | 0.63 |\n",
              "| 20 | 0.68 | 0.65 |\n",
              "| 21 | 0.72 | 0.70 |\n",
              "| 22 | 0.72 | 0.68 |\n",
              "| 23 | 0.69 | 0.66 |\n",
              "| 24 | 0.68 | 0.64 |\n",
              "| 25 | 0.67 | 0.64 |\n",
              "| 26 | 0.67 | 0.64 |\n",
              "| 27 | 0.68 | 0.65 |\n",
              "| 28 | 0.69 | 0.66 |\n",
              "| 29 | 0.70 | 0.67 |\n",
              "| ⋮ | ⋮ | ⋮ |\n",
              "|  71 | 0.44 | 0.50 |\n",
              "|  72 | 0.42 | 0.48 |\n",
              "|  73 | 0.40 | 0.47 |\n",
              "|  74 | 0.39 | 0.46 |\n",
              "|  75 | 0.41 | 0.48 |\n",
              "|  76 | 0.28 | 0.34 |\n",
              "|  77 | 0.27 | 0.33 |\n",
              "|  78 | 0.26 | 0.32 |\n",
              "|  79 | 0.25 | 0.32 |\n",
              "|  80 | 0.21 | 0.27 |\n",
              "|  81 | 0.19 | 0.25 |\n",
              "|  82 | 0.17 | 0.23 |\n",
              "|  83 | 0.15 | 0.21 |\n",
              "|  84 | 0.13 | 0.19 |\n",
              "|  85 | 0.12 | 0.17 |\n",
              "|  86 | 0.10 | 0.16 |\n",
              "|  87 | 0.09 | 0.15 |\n",
              "|  88 | 0.07 | 0.13 |\n",
              "|  89 | 0.06 | 0.12 |\n",
              "|  90 | 0.05 | 0.10 |\n",
              "|  91 | 0.05 | 0.09 |\n",
              "|  92 | 0.04 | 0.08 |\n",
              "|  93 | 0.03 | 0.06 |\n",
              "|  94 | 0.02 | 0.05 |\n",
              "|  95 | 0.02 | 0.04 |\n",
              "|  96 | 0.01 | 0.03 |\n",
              "|  97 | 0.01 | 0.02 |\n",
              "|  98 | 0.01 | 0.02 |\n",
              "|  99 | 0.00 | 0.01 |\n",
              "| 100 | 0.01 | 0.02 |\n",
              "\n"
            ],
            "text/plain": [
              "    Age Male % of Population Female % of Population\n",
              "1    0  0.56                 0.54                  \n",
              "2    1  0.55                 0.53                  \n",
              "3    2  0.57                 0.54                  \n",
              "4    3  0.57                 0.55                  \n",
              "5    4  0.59                 0.56                  \n",
              "6    5  0.60                 0.57                  \n",
              "7    6  0.61                 0.59                  \n",
              "8    7  0.62                 0.59                  \n",
              "9    8  0.62                 0.59                  \n",
              "10   9  0.62                 0.59                  \n",
              "11  10  0.62                 0.59                  \n",
              "12  11  0.63                 0.59                  \n",
              "13  12  0.64                 0.61                  \n",
              "14  13  0.65                 0.62                  \n",
              "15  14  0.68                 0.64                  \n",
              "16  15  0.68                 0.64                  \n",
              "17  16  0.66                 0.63                  \n",
              "18  17  0.66                 0.63                  \n",
              "19  18  0.66                 0.63                  \n",
              "20  19  0.66                 0.63                  \n",
              "21  20  0.68                 0.65                  \n",
              "22  21  0.72                 0.70                  \n",
              "23  22  0.72                 0.68                  \n",
              "24  23  0.69                 0.66                  \n",
              "25  24  0.68                 0.64                  \n",
              "26  25  0.67                 0.64                  \n",
              "27  26  0.67                 0.64                  \n",
              "28  27  0.68                 0.65                  \n",
              "29  28  0.69                 0.66                  \n",
              "30  29  0.70                 0.67                  \n",
              "⋮   ⋮   ⋮                    ⋮                     \n",
              "72   71 0.44                 0.50                  \n",
              "73   72 0.42                 0.48                  \n",
              "74   73 0.40                 0.47                  \n",
              "75   74 0.39                 0.46                  \n",
              "76   75 0.41                 0.48                  \n",
              "77   76 0.28                 0.34                  \n",
              "78   77 0.27                 0.33                  \n",
              "79   78 0.26                 0.32                  \n",
              "80   79 0.25                 0.32                  \n",
              "81   80 0.21                 0.27                  \n",
              "82   81 0.19                 0.25                  \n",
              "83   82 0.17                 0.23                  \n",
              "84   83 0.15                 0.21                  \n",
              "85   84 0.13                 0.19                  \n",
              "86   85 0.12                 0.17                  \n",
              "87   86 0.10                 0.16                  \n",
              "88   87 0.09                 0.15                  \n",
              "89   88 0.07                 0.13                  \n",
              "90   89 0.06                 0.12                  \n",
              "91   90 0.05                 0.10                  \n",
              "92   91 0.05                 0.09                  \n",
              "93   92 0.04                 0.08                  \n",
              "94   93 0.03                 0.06                  \n",
              "95   94 0.02                 0.05                  \n",
              "96   95 0.02                 0.04                  \n",
              "97   96 0.01                 0.03                  \n",
              "98   97 0.01                 0.02                  \n",
              "99   98 0.01                 0.02                  \n",
              "100  99 0.00                 0.01                  \n",
              "101 100 0.01                 0.02                  "
            ]
          },
          "metadata": {},
          "output_type": "display_data"
        }
      ],
      "source": [
        "# colab\n",
        "# us_pop <- read_csv(\"https://raw.githubusercontent.com/terhorst/stats504/main/lectures/week2/United%20States%20Population%20by%20Age%20and%20Sex.csv\")\n",
        "\n",
        "read_csv('United States Population by Age and Sex.csv', skip=1) %>%\n",
        "    mutate(across(1:3, \\(x) str_replace_all(x, \"[^\\\\d.]\", \"\") %>% as.numeric)) %>%\n",
        "    slice(1:101) -> ages\n",
        "\n",
        "ages"
      ]
    },
    {
      "cell_type": "code",
      "execution_count": null,
      "metadata": {
        "id": "6TiOXCg-mS8l"
      },
      "outputs": [],
      "source": []
    },
    {
      "cell_type": "markdown",
      "metadata": {
        "id": "71tjZQugmS8l"
      },
      "source": [
        "## Putting it together"
      ]
    },
    {
      "cell_type": "code",
      "execution_count": null,
      "metadata": {
        "id": "Iz-KMgwtmS8l"
      },
      "outputs": [],
      "source": []
    }
  ],
  "metadata": {
    "celltoolbar": "Slideshow",
    "jupytext": {
      "encoding": "# -*- coding: utf-8 -*-",
      "formats": "ipynb,py:light"
    },
    "kernelspec": {
      "display_name": "R",
      "language": "R",
      "name": "ir"
    },
    "language_info": {
      "codemirror_mode": "r",
      "file_extension": ".r",
      "mimetype": "text/x-r-source",
      "name": "R",
      "pygments_lexer": "r",
      "version": "4.5.1"
    },
    "colab": {
      "provenance": [],
      "include_colab_link": true
    }
  },
  "nbformat": 4,
  "nbformat_minor": 0
}
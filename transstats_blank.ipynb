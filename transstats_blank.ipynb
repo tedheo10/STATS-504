{
  "cells": [
    {
      "cell_type": "markdown",
      "metadata": {
        "id": "view-in-github",
        "colab_type": "text"
      },
      "source": [
        "<a href=\"https://colab.research.google.com/github/tedheo10/STATS-504/blob/main/transstats_blank.ipynb\" target=\"_parent\"><img src=\"https://colab.research.google.com/assets/colab-badge.svg\" alt=\"Open In Colab\"/></a>"
      ]
    },
    {
      "cell_type": "code",
      "execution_count": 2,
      "id": "93b406b5",
      "metadata": {
        "colab": {
          "base_uri": "https://localhost:8080/"
        },
        "id": "93b406b5",
        "outputId": "da1e1292-f26c-4d81-e06d-e732a0dc6b6e"
      },
      "outputs": [
        {
          "output_type": "stream",
          "name": "stderr",
          "text": [
            "Installing package into ‘/usr/local/lib/R/site-library’\n",
            "(as ‘lib’ is unspecified)\n",
            "\n"
          ]
        }
      ],
      "source": [
        "library(tidyverse)\n",
        "library(ggplot2)\n",
        "install.packages(\"nycflights13\")\n",
        "library(nycflights13)\n",
        "options(repr.plot.width = 10, repr.plot.height = 6)\n",
        "# httr::set_config(config(ssl_verifypeer = 0L))\n",
        "# -k means don't verify cert, -L means follow redirects (important for some servers)\n",
        "options(download.file.method=\"curl\", download.file.extra=\"-k -L\")\n",
        "theme_set(theme_minimal())"
      ]
    },
    {
      "cell_type": "markdown",
      "id": "b2b72d6b",
      "metadata": {
        "id": "b2b72d6b"
      },
      "source": [
        "# STATS 504\n",
        "## Week 1: TransStats data"
      ]
    },
    {
      "cell_type": "markdown",
      "id": "5ccda531",
      "metadata": {
        "id": "5ccda531"
      },
      "source": [
        "## TransStats\n",
        "- [U.S. Bureau of Transportation Statistics](http://www.transtats.bts.gov)\n",
        "- Aviation, maritime, highway, transit, and rail.\n",
        "- We will focus on aviation today"
      ]
    },
    {
      "cell_type": "markdown",
      "id": "13ada138",
      "metadata": {
        "id": "13ada138"
      },
      "source": [
        "## Three questions for lecture\n",
        "For today's lecture I want to answer the following questions:\n",
        "\n",
        "- Which airlines are likely to cancel a flight during spring break?\n",
        "- Where do people fly to from Detroit in the winter?"
      ]
    },
    {
      "cell_type": "markdown",
      "id": "6887c456",
      "metadata": {
        "id": "6887c456"
      },
      "source": [
        "## Getting the data\n",
        "- The web site has interactive query builders for the different data bases.\n",
        "- Example: [airline on-time data](https://www.transtats.bts.gov/Tables.asp?QO_VQ=EFD&QO_anzr=Nv4yv0r%FDb0-gvzr%FDcr4s14zn0pr%FDQn6n&QO_fu146_anzr=b0-gvzr)\n",
        "- The interface lets you download one month of data at a time -- how to automate?"
      ]
    },
    {
      "cell_type": "code",
      "execution_count": null,
      "id": "5b165087",
      "metadata": {
        "scrolled": false,
        "id": "5b165087",
        "outputId": "750b8a65-91be-4805-c508-c4afc97f8aa2"
      },
      "outputs": [
        {
          "data": {
            "text/html": [
              "'https://www.transtats.bts.gov/PREZIP/On_Time_Reporting_Carrier_On_Time_Performance_1987_present_2020_3.zip'"
            ],
            "text/latex": [
              "'https://www.transtats.bts.gov/PREZIP/On\\_Time\\_Reporting\\_Carrier\\_On\\_Time\\_Performance\\_1987\\_present\\_2020\\_3.zip'"
            ],
            "text/markdown": [
              "'https://www.transtats.bts.gov/PREZIP/On_Time_Reporting_Carrier_On_Time_Performance_1987_present_2020_3.zip'"
            ],
            "text/plain": [
              "https://www.transtats.bts.gov/PREZIP/On_Time_Reporting_Carrier_On_Time_Performance_1987_present_2020_3.zip"
            ]
          },
          "metadata": {},
          "output_type": "display_data"
        }
      ],
      "source": [
        "base <- 'https://www.transtats.bts.gov/PREZIP/'\n",
        "\n",
        "template <- paste0(base, 'On_Time_Reporting_Carrier_On_Time_Performance_1987_present_{year}_{month}.zip')\n",
        "\n",
        "\n",
        "template %>% str_glue(year=2020, month=3)"
      ]
    },
    {
      "cell_type": "code",
      "execution_count": null,
      "id": "0c36f6bc",
      "metadata": {
        "id": "0c36f6bc"
      },
      "outputs": [],
      "source": []
    },
    {
      "cell_type": "code",
      "source": [
        "template %>% str_glue(year=2022, month=1) %>% download.file(\"2022_01.zip\")"
      ],
      "metadata": {
        "id": "8g1JIHolJ_cu"
      },
      "id": "8g1JIHolJ_cu",
      "execution_count": null,
      "outputs": []
    },
    {
      "cell_type": "code",
      "source": [
        "df = read.csv(\"2022_01.zip\")\n",
        "df %>% head"
      ],
      "metadata": {
        "id": "q123Nu5iKU88"
      },
      "id": "q123Nu5iKU88",
      "execution_count": null,
      "outputs": []
    },
    {
      "cell_type": "markdown",
      "id": "bca12846",
      "metadata": {
        "id": "bca12846"
      },
      "source": [
        "## Assembling the dataset\n",
        "Let's download all the data from 2022 (the most recent complete year).\n"
      ]
    },
    {
      "cell_type": "markdown",
      "id": "e0ca6cf4",
      "metadata": {
        "id": "e0ca6cf4"
      },
      "source": [
        "Each `.zip` file contains a README describing the column layout. From this, I build the following column specification to extract only the data I need:"
      ]
    },
    {
      "cell_type": "code",
      "execution_count": null,
      "id": "143f6180",
      "metadata": {
        "id": "143f6180"
      },
      "outputs": [],
      "source": [
        "columns <- cols_only(\n",
        "  FlightDate = col_datetime(),\n",
        "  Tail_Number = col_character(),\n",
        "  Reporting_Airline = col_character(),\n",
        "  Origin = col_character(),\n",
        "  Dest = col_character(),\n",
        "  DepTime = col_double(),\n",
        "  DepDelay = col_double(),\n",
        "  ArrTime = col_double(),\n",
        "  ArrDelay = col_double(),\n",
        "  Cancelled = col_double(),\n",
        "  CancellationCode = col_character(),\n",
        "  AirTime = col_double(),\n",
        "  Distance = col_double(),\n",
        "  CarrierDelay = col_double(),\n",
        "  WeatherDelay = col_double(),\n",
        "  NASDelay = col_double(),\n",
        "  SecurityDelay = col_double(),\n",
        "  LateAircraftDelay = col_double()\n",
        ")"
      ]
    },
    {
      "cell_type": "markdown",
      "id": "b740cf08",
      "metadata": {
        "id": "b740cf08"
      },
      "source": [
        "## Data download function\n",
        "- Now I want to download the data for 2022-1, 2022-2, ..., 2022-12 in succession and paste them together.\n",
        "- Since we're going to be applying the same code twelve different times, it makes sense to package this code up into a function and re-use it.\n",
        "- Guiding principle: don't repeat yourself! ([DRY](https://en.wikipedia.org/wiki/Don%27t_repeat_yourself))"
      ]
    },
    {
      "cell_type": "code",
      "execution_count": null,
      "id": "ff3d01d2",
      "metadata": {
        "id": "ff3d01d2"
      },
      "outputs": [],
      "source": [
        "dl_data <- function(month, year) {\n",
        "    fn <- paste0(year, \"_\", month, \".zip\")\n",
        "    if (! file.exists(fn)) {\n",
        "        str_glue(template, year=year, month=month) %>% download.file(fn)\n",
        "    }\n",
        "    return(read_csv(fn, col_types = columns))\n",
        "}"
      ]
    },
    {
      "cell_type": "code",
      "execution_count": null,
      "id": "bf7a9694",
      "metadata": {
        "id": "bf7a9694"
      },
      "outputs": [],
      "source": [
        "load(\"flights_2022.RData\")"
      ]
    },
    {
      "cell_type": "code",
      "execution_count": null,
      "id": "17446370",
      "metadata": {
        "id": "17446370"
      },
      "outputs": [],
      "source": [
        "flights_2022 %>% print"
      ]
    },
    {
      "cell_type": "markdown",
      "id": "904b05fa",
      "metadata": {
        "id": "904b05fa"
      },
      "source": [
        "## Who is most likely to cancel flights\n",
        "\n",
        "- I am worried about my flight getting cancelled. Which air carrier is most likely to cancel?\n",
        "- How should we we measure? Ideas:\n",
        "    - Total Cancellations / Total Scheduled Flights.\n",
        "    - Some cancellations are due to circumstances beyond the carrier's control (e.g. weather).\n",
        "    - Route specific cancellations: are some routes more likely to get cancelled?\n",
        "    - Benchmark: compare an airline's cancellation rate against the industry average."
      ]
    },
    {
      "cell_type": "code",
      "execution_count": null,
      "id": "a494905c",
      "metadata": {
        "id": "a494905c"
      },
      "outputs": [],
      "source": []
    },
    {
      "cell_type": "markdown",
      "id": "d84bd854",
      "metadata": {
        "id": "d84bd854"
      },
      "source": [
        "## Basic analysis\n",
        "Let us start by analyzing the overall cancellation rate."
      ]
    },
    {
      "cell_type": "code",
      "execution_count": null,
      "id": "6ae56293",
      "metadata": {
        "id": "6ae56293"
      },
      "outputs": [],
      "source": [
        "nycflights13::airlines %>% print"
      ]
    },
    {
      "cell_type": "code",
      "source": [
        "flights_2022 %>% group_by(Reporting_Airline) %>%\n",
        "    summarise(cr = mean(Cancelled), n=n()) %>%\n",
        "    left_join"
      ],
      "metadata": {
        "id": "Iwzfy-ioL7Pb"
      },
      "id": "Iwzfy-ioL7Pb",
      "execution_count": null,
      "outputs": []
    },
    {
      "cell_type": "markdown",
      "id": "6f4a2823",
      "metadata": {
        "id": "6f4a2823"
      },
      "source": [
        "This has revealed a problem in our data. The join did not perform as we expected."
      ]
    },
    {
      "cell_type": "code",
      "execution_count": null,
      "id": "4e5e892a",
      "metadata": {
        "id": "4e5e892a"
      },
      "outputs": [],
      "source": []
    },
    {
      "cell_type": "markdown",
      "source": [
        "Carrier's names are missing"
      ],
      "metadata": {
        "id": "pqA2Xe0TMbxy"
      },
      "id": "pqA2Xe0TMbxy"
    },
    {
      "cell_type": "markdown",
      "id": "86aff5af",
      "metadata": {
        "id": "86aff5af"
      },
      "source": [
        "Incidentally, this is an argument for using `left_join` instead of `inner_join`. Inner join would have silently eliminated all the non-matching rows. We would have no idea that we were missing out on hundreds of thousands of flights."
      ]
    },
    {
      "cell_type": "markdown",
      "id": "9d69cf8e",
      "metadata": {
        "id": "9d69cf8e"
      },
      "source": [
        "## Scraping\n",
        "We need a quick way to get an up-to-date database of airline codes.\n",
        "- Wikipedia has a list [here](https://en.wikipedia.org/wiki/List_of_airline_codes).\n",
        "- How can we get this into R?"
      ]
    },
    {
      "cell_type": "code",
      "execution_count": null,
      "id": "f1c4f475",
      "metadata": {
        "id": "f1c4f475"
      },
      "outputs": [],
      "source": [
        "#install.packages(\"rvest\")\n",
        "library(rvest)\n",
        "read_html('https://en.wikipedia.org/wiki/List_of_airline_codes') %>% html_table %>% .[[1]] ->\n",
        "    airline_codes"
      ]
    },
    {
      "cell_type": "code",
      "source": [
        "airline_codes %>% print"
      ],
      "metadata": {
        "id": "fDdcPIEBNASV"
      },
      "id": "fDdcPIEBNASV",
      "execution_count": null,
      "outputs": []
    },
    {
      "cell_type": "code",
      "source": [
        "flights_2022 %>% left_join(airline_codes, join_by(Reporting_Airline == IATA)) %>%\n",
        "  group_by(Airline) %>% summarize(cr = mean(Canceled)) %>%\n",
        ""
      ],
      "metadata": {
        "id": "-1Mx7_OVNEPR"
      },
      "id": "-1Mx7_OVNEPR",
      "execution_count": null,
      "outputs": []
    },
    {
      "cell_type": "code",
      "execution_count": null,
      "id": "7b48fae8",
      "metadata": {
        "id": "7b48fae8"
      },
      "outputs": [],
      "source": []
    },
    {
      "cell_type": "markdown",
      "id": "f89c326f",
      "metadata": {
        "id": "f89c326f"
      },
      "source": [
        "What about the warning we received?"
      ]
    },
    {
      "cell_type": "code",
      "execution_count": null,
      "id": "8fc37456",
      "metadata": {
        "id": "8fc37456"
      },
      "outputs": [],
      "source": []
    },
    {
      "cell_type": "markdown",
      "id": "8dbd1905",
      "metadata": {
        "id": "8dbd1905"
      },
      "source": [
        "## Cancellation rate by week\n",
        "- Let's consider cancellations by week of the year.\n",
        "- Are cancellations more likely during some periods of the year than others?"
      ]
    },
    {
      "cell_type": "code",
      "execution_count": null,
      "id": "7057d7dc",
      "metadata": {
        "id": "7057d7dc"
      },
      "outputs": [],
      "source": []
    },
    {
      "cell_type": "markdown",
      "id": "dda42113",
      "metadata": {
        "id": "dda42113"
      },
      "source": [
        "This plot is sort of hard to read, so let's think of same ways to improve it:\n",
        "- Plot carrier name instead of code.\n",
        "- Consider deviation from average weekly delay."
      ]
    },
    {
      "cell_type": "code",
      "execution_count": null,
      "id": "bd222166",
      "metadata": {
        "id": "bd222166"
      },
      "outputs": [],
      "source": []
    },
    {
      "cell_type": "markdown",
      "id": "b148ccd6",
      "metadata": {
        "id": "b148ccd6"
      },
      "source": [
        "(What is the [spike](https://en.wikipedia.org/wiki/2022_Southwest_Airlines_scheduling_crisis) at the very end of 2022?)"
      ]
    },
    {
      "cell_type": "markdown",
      "id": "b7216a44",
      "metadata": {
        "id": "b7216a44"
      },
      "source": [
        "The plot is still rather jumbled. We can try zooming in on specific carriers:"
      ]
    },
    {
      "cell_type": "code",
      "execution_count": null,
      "id": "7d475b76",
      "metadata": {
        "id": "7d475b76"
      },
      "outputs": [],
      "source": []
    },
    {
      "cell_type": "markdown",
      "id": "3ce3477d",
      "metadata": {
        "id": "3ce3477d"
      },
      "source": [
        "## Reasons for cancellation\n",
        "\n",
        "- For flights that are cancelled, there is a code:"
      ]
    },
    {
      "cell_type": "code",
      "execution_count": null,
      "id": "9c717e17",
      "metadata": {
        "id": "9c717e17"
      },
      "outputs": [],
      "source": []
    },
    {
      "cell_type": "markdown",
      "id": "56b2ad68",
      "metadata": {
        "id": "56b2ad68"
      },
      "source": [
        "- [What do the codes mean](https://www.transtats.bts.gov/FieldInfo.asp?Svryq_Qr5p=f2rpvsvr5%FDgur%FDern510%FDS14%FDPn0pryyn6v10&Svryq_gB2r=Pun4&Y11x72_gnoyr=Y_PNaPRYYNgVba&gnoyr_VQ=FGK&flf_gnoyr_anzr=g_bagVZR_ZNeXRgVaT&fB5_Svryq_anzr=PNaPRYYNgVba_PbQR)?"
      ]
    },
    {
      "cell_type": "code",
      "execution_count": null,
      "id": "0f6a2d2d",
      "metadata": {
        "id": "0f6a2d2d"
      },
      "outputs": [],
      "source": []
    },
    {
      "cell_type": "markdown",
      "id": "15aa3368",
      "metadata": {
        "id": "15aa3368"
      },
      "source": [
        "- Now we want to visualize the distribution of two categorical variables: `airline` and `cancellation code`.\n",
        "- How should we do it?\n",
        "- (Recall last lecture)"
      ]
    },
    {
      "cell_type": "code",
      "execution_count": null,
      "id": "6aebe2b7",
      "metadata": {
        "id": "6aebe2b7"
      },
      "outputs": [],
      "source": []
    },
    {
      "cell_type": "markdown",
      "id": "3ba3f8a0",
      "metadata": {
        "id": "3ba3f8a0"
      },
      "source": [
        "To make the table more readable, we should normalize the table across:\n",
        "    - Rows?\n",
        "    - Columns?"
      ]
    },
    {
      "cell_type": "code",
      "execution_count": null,
      "id": "704c6d08",
      "metadata": {
        "id": "704c6d08"
      },
      "outputs": [],
      "source": []
    },
    {
      "cell_type": "markdown",
      "id": "75ffbc11",
      "metadata": {
        "id": "75ffbc11"
      },
      "source": [
        "## Where do people in Michigan fly during the winter?\n",
        "\n",
        "To study this, we will use a random 10% sample of all airline tickets issued during Q12023:\n",
        "\n",
        "https://www.transtats.bts.gov/DatabaseInfo.asp?QO_VQ=EFI&Yv0x=D"
      ]
    },
    {
      "cell_type": "code",
      "execution_count": null,
      "id": "33ae5f2a",
      "metadata": {
        "id": "33ae5f2a"
      },
      "outputs": [],
      "source": [
        "load(\"tkt_2023.RData\")"
      ]
    },
    {
      "cell_type": "code",
      "execution_count": null,
      "id": "a95e503d",
      "metadata": {
        "id": "a95e503d"
      },
      "outputs": [],
      "source": []
    },
    {
      "cell_type": "code",
      "execution_count": null,
      "id": "afd9995c",
      "metadata": {
        "id": "afd9995c"
      },
      "outputs": [],
      "source": [
        "states_abbrs <- data.frame(\n",
        "  Abbreviation = c(\"AL\", \"AK\", \"AZ\", \"AR\", \"CA\", \"CO\", \"CT\", \"DE\", \"FL\", \"GA\",\n",
        "                   \"HI\", \"ID\", \"IL\", \"IN\", \"IA\", \"KS\", \"KY\", \"LA\", \"ME\", \"MD\",\n",
        "                   \"MA\", \"MI\", \"MN\", \"MS\", \"MO\", \"MT\", \"NE\", \"NV\", \"NH\", \"NJ\",\n",
        "                   \"NM\", \"NY\", \"NC\", \"ND\", \"OH\", \"OK\", \"OR\", \"PA\", \"RI\", \"SC\",\n",
        "                   \"SD\", \"TN\", \"TX\", \"UT\", \"VT\", \"VA\", \"WA\", \"WV\", \"WI\", \"WY\"),\n",
        "  StateName = c(\"Alabama\", \"Alaska\", \"Arizona\", \"Arkansas\", \"California\", \"Colorado\",\n",
        "                \"Connecticut\", \"Delaware\", \"Florida\", \"Georgia\", \"Hawaii\", \"Idaho\",\n",
        "                \"Illinois\", \"Indiana\", \"Iowa\", \"Kansas\", \"Kentucky\", \"Louisiana\",\n",
        "                \"Maine\", \"Maryland\", \"Massachusetts\", \"Michigan\", \"Minnesota\",\n",
        "                \"Mississippi\", \"Missouri\", \"Montana\", \"Nebraska\", \"Nevada\",\n",
        "                \"New Hampshire\", \"New Jersey\", \"New Mexico\", \"New York\",\n",
        "                \"North Carolina\", \"North Dakota\", \"Ohio\", \"Oklahoma\", \"Oregon\",\n",
        "                \"Pennsylvania\", \"Rhode Island\", \"South Carolina\", \"South Dakota\",\n",
        "                \"Tennessee\", \"Texas\", \"Utah\", \"Vermont\", \"Virginia\", \"Washington\",\n",
        "                \"West Virginia\", \"Wisconsin\", \"Wyoming\")\n",
        ")\n",
        "\n",
        "#print(states_abbrs)\n"
      ]
    },
    {
      "cell_type": "code",
      "execution_count": null,
      "id": "e11effd5",
      "metadata": {
        "id": "e11effd5"
      },
      "outputs": [],
      "source": []
    }
  ],
  "metadata": {
    "celltoolbar": "Slideshow",
    "kernelspec": {
      "display_name": "R",
      "language": "R",
      "name": "ir"
    },
    "language_info": {
      "codemirror_mode": "r",
      "file_extension": ".r",
      "mimetype": "text/x-r-source",
      "name": "R",
      "pygments_lexer": "r",
      "version": "4.5.1"
    },
    "colab": {
      "provenance": [],
      "include_colab_link": true
    }
  },
  "nbformat": 4,
  "nbformat_minor": 5
}
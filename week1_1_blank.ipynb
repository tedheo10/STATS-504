{
  "cells": [
    {
      "cell_type": "markdown",
      "metadata": {
        "id": "view-in-github",
        "colab_type": "text"
      },
      "source": [
        "<a href=\"https://colab.research.google.com/github/tedheo10/STATS-504/blob/main/week1_1_blank.ipynb\" target=\"_parent\"><img src=\"https://colab.research.google.com/assets/colab-badge.svg\" alt=\"Open In Colab\"/></a>"
      ]
    },
    {
      "cell_type": "code",
      "execution_count": 2,
      "metadata": {
        "colab": {
          "base_uri": "https://localhost:8080/"
        },
        "id": "4xaeg9NwjCVs",
        "outputId": "8e3e6f0b-b71e-444e-b580-27dce98caa08"
      },
      "outputs": [
        {
          "output_type": "stream",
          "name": "stderr",
          "text": [
            "── \u001b[1mAttaching core tidyverse packages\u001b[22m ──────────────────────── tidyverse 2.0.0 ──\n",
            "\u001b[32m✔\u001b[39m \u001b[34mdplyr    \u001b[39m 1.1.4     \u001b[32m✔\u001b[39m \u001b[34mreadr    \u001b[39m 2.1.5\n",
            "\u001b[32m✔\u001b[39m \u001b[34mforcats  \u001b[39m 1.0.0     \u001b[32m✔\u001b[39m \u001b[34mstringr  \u001b[39m 1.5.1\n",
            "\u001b[32m✔\u001b[39m \u001b[34mggplot2  \u001b[39m 3.5.2     \u001b[32m✔\u001b[39m \u001b[34mtibble   \u001b[39m 3.3.0\n",
            "\u001b[32m✔\u001b[39m \u001b[34mlubridate\u001b[39m 1.9.4     \u001b[32m✔\u001b[39m \u001b[34mtidyr    \u001b[39m 1.3.1\n",
            "\u001b[32m✔\u001b[39m \u001b[34mpurrr    \u001b[39m 1.1.0     \n",
            "── \u001b[1mConflicts\u001b[22m ────────────────────────────────────────── tidyverse_conflicts() ──\n",
            "\u001b[31m✖\u001b[39m \u001b[34mdplyr\u001b[39m::\u001b[32mfilter()\u001b[39m masks \u001b[34mstats\u001b[39m::filter()\n",
            "\u001b[31m✖\u001b[39m \u001b[34mdplyr\u001b[39m::\u001b[32mlag()\u001b[39m    masks \u001b[34mstats\u001b[39m::lag()\n",
            "\u001b[36mℹ\u001b[39m Use the conflicted package (\u001b[3m\u001b[34m<http://conflicted.r-lib.org/>\u001b[39m\u001b[23m) to force all conflicts to become errors\n"
          ]
        }
      ],
      "source": [
        "library(tidyverse)\n",
        "library(ggplot2)\n",
        "options(repr.plot.width = 10 , repr.plot.height = 6, jupyter.plot_mimetypes = \"image/png\")\n",
        "theme_set(theme_classic())"
      ]
    },
    {
      "cell_type": "markdown",
      "metadata": {
        "id": "v0y4-gMrjCVu"
      },
      "source": [
        "# STATS 504\n",
        "## Week 1: Exploratory data analysis"
      ]
    },
    {
      "cell_type": "markdown",
      "metadata": {
        "id": "GSCyV_UpjCVu"
      },
      "source": [
        "To follow along in today's lecture you'll need to load `tidyverse` and also install the `nycflights13` package:"
      ]
    },
    {
      "cell_type": "code",
      "execution_count": null,
      "metadata": {
        "id": "p6msclnkjCVv"
      },
      "outputs": [],
      "source": []
    },
    {
      "cell_type": "code",
      "execution_count": 1,
      "metadata": {
        "colab": {
          "base_uri": "https://localhost:8080/",
          "height": 108
        },
        "id": "LC1B6aOTjCVv",
        "outputId": "699932c9-0534-4fc5-bfb0-8cfc7d63e612"
      },
      "outputs": [
        {
          "output_type": "error",
          "ename": "ERROR",
          "evalue": "Error in library(nycflights13): there is no package called ‘nycflights13’\n",
          "traceback": [
            "Error in library(nycflights13): there is no package called ‘nycflights13’\nTraceback:\n",
            "1. stop(packageNotFoundError(package, lib.loc, sys.call()))"
          ]
        }
      ],
      "source": [
        "library(nycflights13)"
      ]
    },
    {
      "cell_type": "code",
      "source": [
        "print(\"hello\")"
      ],
      "metadata": {
        "colab": {
          "base_uri": "https://localhost:8080/"
        },
        "id": "INgGZ3jcmhpe",
        "outputId": "e0b08cbc-ca1d-4761-dbba-f1973e355fb8"
      },
      "execution_count": 3,
      "outputs": [
        {
          "output_type": "stream",
          "name": "stdout",
          "text": [
            "[1] \"hello\"\n"
          ]
        }
      ]
    },
    {
      "cell_type": "markdown",
      "metadata": {
        "jp-MarkdownHeadingCollapsed": true,
        "id": "H-_SN44VjCVv"
      },
      "source": [
        "## What is exploratory data analysis\n",
        "\n",
        "<img src=\"https://upload.wikimedia.org/wikipedia/en/e/e9/John_Tukey.jpg\" style=\"margin: 0 0 0 20px; float: right\" />\n",
        "\n",
        "> Procedures for analyzing data, techniques for interpreting the results of such procedures, ways of planning the gathering of data to make its analysis easier, more precise or more accurate, and all the machinery and results of (mathematical) statistics which apply to analyzing data.\n",
        "\n"
      ]
    },
    {
      "cell_type": "markdown",
      "metadata": {
        "id": "8tzIrwdbjCVv"
      },
      "source": [
        "## EDA (concrete version)\n",
        "\n",
        "1. Generate questions about your data.\n",
        "2. Search for answers by visualizing, transforming, and modelling your data.\n",
        "3. Use what you learn to refine your questions and/or generate new questions.\n",
        "4. (Return to #1)."
      ]
    },
    {
      "cell_type": "markdown",
      "metadata": {
        "id": "x-qktCvpjCVv"
      },
      "source": [
        "Two types of questions are always useful for making discoveries within your data:\n",
        "\n",
        "- What type of variation occurs within my variables?\n",
        "- What type of covariation occurs between my variables?"
      ]
    },
    {
      "cell_type": "markdown",
      "metadata": {
        "id": "sACds4nJjCVw"
      },
      "source": [
        "## Variation\n",
        "- Real-life variables change from measurement to measurement.\n",
        "- This is often true even if you measure the same thing twice!\n",
        "- Each measurements has a small amount of error (\"noise\").\n",
        "- The noise is different each time you take a measurement."
      ]
    },
    {
      "cell_type": "markdown",
      "metadata": {
        "id": "ysDz81vijCVw"
      },
      "source": [
        "## Covariation\n",
        "- Real-life variables tend to change together in a related way.\n",
        "- The best way to spot covariation is to visualize the relationship between two or more variables."
      ]
    },
    {
      "cell_type": "markdown",
      "metadata": {
        "id": "5ygb9rtYjCVw"
      },
      "source": [
        "## Continuous vs. discrete\n",
        "The appropriate visualization will depend on whether the data are:\n",
        "- *Continuous*: they take on an infinite number of ordered values.\n",
        "- *Discrete*: the take on one of a small number of values."
      ]
    },
    {
      "cell_type": "markdown",
      "metadata": {
        "id": "ux9Y5vkLjCVw"
      },
      "source": [
        "## 🤔 Manfacturers\n",
        "\n",
        "Continuous or discrete?: `mpg$manufacturer`\n",
        "\n",
        "<ol style=\"list-style-type: upper-alpha;\">\n",
        "    <li>Continuous</li>\n",
        "    <li>Discrete</li>\n",
        "    <li>Could be either</li>\n",
        "</ol>"
      ]
    },
    {
      "cell_type": "code",
      "execution_count": null,
      "metadata": {
        "id": "IzMTPD4ajCVw"
      },
      "outputs": [],
      "source": [
        "B"
      ]
    },
    {
      "cell_type": "code",
      "execution_count": null,
      "metadata": {
        "id": "p37OzfswjCVx"
      },
      "outputs": [],
      "source": [
        "head(mpg)"
      ]
    },
    {
      "cell_type": "markdown",
      "metadata": {
        "id": "3c91XdnjjCVx"
      },
      "source": [
        "## 🤔 Prices\n",
        "\n",
        "Continuous or discrete?: `diamonds$price`\n",
        "\n",
        "<ol style=\"list-style-type: upper-alpha;\">\n",
        "    <li>Continuous</li>\n",
        "    <li>Discrete</li>\n",
        "    <li>Could be either</li>\n",
        "</ol>"
      ]
    },
    {
      "cell_type": "code",
      "execution_count": null,
      "metadata": {
        "id": "7OUg6MEljCVx"
      },
      "outputs": [],
      "source": [
        "A"
      ]
    },
    {
      "cell_type": "code",
      "execution_count": null,
      "metadata": {
        "id": "rn17XMssjCVx"
      },
      "outputs": [],
      "source": [
        "diamonds$price %>% unique %>% print"
      ]
    },
    {
      "cell_type": "markdown",
      "metadata": {
        "id": "QFdpSwNzjCVx"
      },
      "source": [
        "## 🤔 Ages\n",
        "\n",
        "Continuous or discrete?: `mil$age`\n",
        "\n",
        "<ol style=\"list-style-type: upper-alpha;\">\n",
        "    <li>Continuous</li>\n",
        "    <li>Discrete</li>\n",
        "    <li>Could be either</li>\n",
        "</ol>"
      ]
    },
    {
      "cell_type": "code",
      "execution_count": null,
      "metadata": {
        "id": "17IOTWL6jCVx"
      },
      "outputs": [],
      "source": [
        "C"
      ]
    },
    {
      "cell_type": "code",
      "execution_count": null,
      "metadata": {
        "id": "7p2Epl5TjCVy"
      },
      "outputs": [],
      "source": [
        "#load(\"millennials.RData\")\n",
        "mil %>% select(age) %>% print"
      ]
    },
    {
      "cell_type": "markdown",
      "metadata": {
        "cell_style": "center",
        "id": "ytMBAs5fjCVy"
      },
      "source": [
        "## One continuous variable\n",
        "\n",
        "First we will focus on understanding the distribution of one continuous variable."
      ]
    },
    {
      "cell_type": "markdown",
      "metadata": {
        "id": "0eaKPRLyjCVy"
      },
      "source": [
        "`morley` is a built-in dataset measuring the speed of light:"
      ]
    },
    {
      "cell_type": "code",
      "execution_count": null,
      "metadata": {
        "id": "Cpwwfek9jCVy"
      },
      "outputs": [],
      "source": []
    },
    {
      "cell_type": "code",
      "execution_count": null,
      "metadata": {
        "id": "EhVa7na-jCVy"
      },
      "outputs": [],
      "source": [
        "head(morley)\n",
        "morley$Speed"
      ]
    },
    {
      "cell_type": "code",
      "execution_count": null,
      "metadata": {
        "id": "pX17NVzJjCVy"
      },
      "outputs": [],
      "source": []
    },
    {
      "cell_type": "markdown",
      "metadata": {
        "id": "YkZS_pL4jCVy"
      },
      "source": [
        "## 🤔 Types of variables\n",
        "How would you describe the types `Expt`/`Run`/`Speed` in these data?\n",
        "\n",
        "<ol style=\"list-style-type: upper-alpha;\">\n",
        "    <li>Continuous / Continuous / Continuous </li>\n",
        "    <li>Discrete / Discrete / Discrete</li>\n",
        "    <li>Continuous / Discrete / Continuous</li>\n",
        "    <li>Discrete / Discrete / Continuous</li>\n",
        "</ol>"
      ]
    },
    {
      "cell_type": "code",
      "execution_count": null,
      "metadata": {
        "id": "3dqoK9OwjCVy"
      },
      "outputs": [],
      "source": [
        "D"
      ]
    },
    {
      "cell_type": "markdown",
      "metadata": {
        "id": "8iVXJw1ajCVz"
      },
      "source": [
        "Here we're measuring the speed of light, an absolute, unchanging, physical constant:\n",
        "\n",
        "$$c = 299,792,458 \\, m/s.$$\n",
        "\n",
        "But we get a different value with every experiment. Why?"
      ]
    },
    {
      "cell_type": "markdown",
      "metadata": {
        "id": "nt7WANYRjCVz"
      },
      "source": [
        "## Visualizing variation in our data\n",
        "\n",
        "In order to understand how accurately we measured the speed of light, we first need to assess its *variation*. Since the measurement is continuous, we have several options:"
      ]
    },
    {
      "cell_type": "code",
      "execution_count": null,
      "metadata": {
        "id": "cMJS3a9tjCVz"
      },
      "outputs": [],
      "source": []
    },
    {
      "cell_type": "code",
      "execution_count": null,
      "metadata": {
        "id": "FhBzQgaZjCVz"
      },
      "outputs": [],
      "source": [
        "ggplot(morley) + geom_histogram(aes(x = Speed), bins = 10)"
      ]
    },
    {
      "cell_type": "markdown",
      "metadata": {
        "id": "l5GphxlyjCVz"
      },
      "source": [
        "### Adjusting a histogram\n",
        "Any dataset can be plotted using multiple different histograms. For example:"
      ]
    },
    {
      "cell_type": "code",
      "execution_count": null,
      "metadata": {
        "id": "rNSdkykRjCVz"
      },
      "outputs": [],
      "source": []
    },
    {
      "cell_type": "code",
      "execution_count": null,
      "metadata": {
        "id": "ozCMKN8OjCVz"
      },
      "outputs": [],
      "source": [
        "ggplot(morley) + geom_histogram(aes(x = Speed), bins = 20)"
      ]
    },
    {
      "cell_type": "markdown",
      "metadata": {
        "id": "GrYbuIxdjCVz"
      },
      "source": [
        "There is no one right answer for \"how many different bins\" -- different values tell different stories about your variable\n",
        "- Larger values of bins are more detailed but have higher *variance*\n",
        "- Smaller values are smoother but have higher *bias*"
      ]
    },
    {
      "cell_type": "markdown",
      "metadata": {
        "id": "U2tkMf1hjCVz"
      },
      "source": [
        "## Follow-up questions\n",
        "Now that we can see variation in our data, what sort of follow-up questions should we ask?\n",
        "\n",
        "- Which values are the most common? Why?\n",
        "\n",
        "- Which values are rare? Why? Does that match your expectations?\n",
        "\n",
        "- Can you see any unusual patterns? What might explain them?"
      ]
    },
    {
      "cell_type": "markdown",
      "metadata": {
        "id": "pYrC6D8BjCVz"
      },
      "source": [
        "## The diamonds dataset\n",
        "Let's look at a different dataset built into R:"
      ]
    },
    {
      "cell_type": "code",
      "execution_count": null,
      "metadata": {
        "id": "MEQtPhoEjCV0"
      },
      "outputs": [],
      "source": []
    },
    {
      "cell_type": "code",
      "execution_count": null,
      "metadata": {
        "id": "UehlPbfcjCV0"
      },
      "outputs": [],
      "source": [
        "print(diamonds)"
      ]
    },
    {
      "cell_type": "markdown",
      "metadata": {
        "id": "zURDDFfdjCV0"
      },
      "source": [
        "This is a dataset of price, quality, and other characteristics for 54k diamonds."
      ]
    },
    {
      "cell_type": "code",
      "execution_count": null,
      "metadata": {
        "id": "h8kgfAZUjCV0"
      },
      "outputs": [],
      "source": []
    },
    {
      "cell_type": "code",
      "execution_count": null,
      "metadata": {
        "id": "9a99NJS5jCV0"
      },
      "outputs": [],
      "source": [
        "# histogram of carat\n",
        "ggplot(diamonds) + geom_histogram(aes(x=carat), bin=500)\n",
        "\n",
        "diamonds$carat %>% summary"
      ]
    },
    {
      "cell_type": "markdown",
      "metadata": {
        "id": "X9lWg2lWjCV0"
      },
      "source": [
        "## 🤔 Question\n",
        "\n",
        "What can be said about the distribution of `carat` in the `diamonds` dataset? (Check all that apply.)\n",
        "\n",
        "<ol style=\"list-style-type: upper-alpha;\">\n",
        "    <li>Almost all diamonds are &lt; 3 carats.</li>\n",
        "    <li>Missing values are encoded as <code>carat = -1</code>.</li>\n",
        "    <li>Diamond makers appear to prefer diamonds that are rounded to the nearest .1 or .5 or carat.\n",
        "    <li>There are more diamonds between 0 and 1 carats than &gt;1 carats.</li>\n",
        "    <li>There are more diamonds that measure 2.0 carats than there are that measure between 1.8 and 2.0 carats.</li>\n",
        "</ol>\n",
        "\n",
        "(Hint: plot a histogram, and try out different values for `bins`, `breaks`, or, `binwidth`.)"
      ]
    },
    {
      "cell_type": "markdown",
      "metadata": {
        "id": "NqyvN1GKjCV1"
      },
      "source": [
        "## Unusual values (outliers)\n",
        "Outliers are \"unusual\" observations.\n",
        "- Sometimes they are due to data entry errors.\n",
        "- Sometimes they are important for other reasons."
      ]
    },
    {
      "cell_type": "code",
      "execution_count": null,
      "metadata": {
        "id": "85fRkfAKjCV1"
      },
      "outputs": [],
      "source": []
    },
    {
      "cell_type": "markdown",
      "metadata": {
        "id": "4WzhlFGXjCV1"
      },
      "source": [
        "## Visualizing the distribution of a discrete variable\n",
        "For a discrete variable, generally the only thing we're interested in is the count of each different value that the variable can assume. For this, something like a bar plot is often used:"
      ]
    },
    {
      "cell_type": "code",
      "execution_count": null,
      "metadata": {
        "id": "OSn1JUw-jCV1"
      },
      "outputs": [],
      "source": []
    },
    {
      "cell_type": "code",
      "execution_count": null,
      "metadata": {
        "id": "W_Afb79VjCV1"
      },
      "outputs": [],
      "source": [
        "ggplot(mpg) + geom_bar(aes(x=class, fill=class))"
      ]
    },
    {
      "cell_type": "markdown",
      "metadata": {
        "id": "sx5u2L54jCV1"
      },
      "source": [
        "## Discrete variables with many values\n",
        "Sometimes a discrete variable can take on a lot of values, such that it's not practical to plot its entire distribution. For example:"
      ]
    },
    {
      "cell_type": "code",
      "execution_count": null,
      "metadata": {
        "id": "a_xzNFr0jCV1"
      },
      "outputs": [],
      "source": []
    },
    {
      "cell_type": "code",
      "execution_count": null,
      "metadata": {
        "id": "9Ij9bOCLjCV1"
      },
      "outputs": [],
      "source": [
        "# bar plot of flight destinations\n",
        "flights %>% ggplot + geom_bar(aes(y=dest))"
      ]
    },
    {
      "cell_type": "markdown",
      "metadata": {
        "id": "5cAGIqqrjCV1"
      },
      "source": [
        "In this case we can reduce the data in some way, for example, only plotting the most common airports:"
      ]
    },
    {
      "cell_type": "code",
      "execution_count": null,
      "metadata": {
        "id": "jba97FCTjCV2"
      },
      "outputs": [],
      "source": []
    },
    {
      "cell_type": "code",
      "execution_count": null,
      "metadata": {
        "id": "twBj74xEjCV2"
      },
      "outputs": [],
      "source": []
    },
    {
      "cell_type": "markdown",
      "metadata": {
        "id": "GdLfAu1mjCV2"
      },
      "source": [
        "## Covariation\n",
        "**Covariation** is when multiple variables vary together in a similar way. Covariation is everwhere, e.g.:\n",
        "- Height and weight\n",
        "- Political preference and religion\n",
        "- Income this year vs. income last year\n",
        "- Etc.\n",
        "\n",
        "One of the best way to spot covariation is to visualize the \"joint distribution\" of both variables."
      ]
    },
    {
      "cell_type": "markdown",
      "metadata": {
        "id": "eXLUxS3mjCV2"
      },
      "source": [
        "When studying covariation among two variables, there are three possibilities, depending on whether the variables are continuous, discrete, or a mixture."
      ]
    },
    {
      "cell_type": "markdown",
      "metadata": {
        "id": "zZweR2X1jCV2"
      },
      "source": [
        "## Continuous and discrete\n",
        "With one continuous and one discrete variable, there are several choices:\n",
        "- Box-and-whisker plot\n",
        "- Multiple/colored histograms"
      ]
    },
    {
      "cell_type": "markdown",
      "metadata": {
        "id": "DbyfKHcHjCV2"
      },
      "source": [
        "Let's return to the `morley` dataset and consider covariation between `Expt` (experiment) and `Speed`:"
      ]
    },
    {
      "cell_type": "code",
      "execution_count": null,
      "metadata": {
        "id": "pWbz8ZKAjCV2"
      },
      "outputs": [],
      "source": []
    },
    {
      "cell_type": "markdown",
      "metadata": {
        "id": "9SwQ1SsnjCV2"
      },
      "source": [
        "Let's study covariation of `cut` and `price` in the `diamonds` data set."
      ]
    },
    {
      "cell_type": "code",
      "execution_count": null,
      "metadata": {
        "id": "47lNZemNjCV3"
      },
      "outputs": [],
      "source": []
    },
    {
      "cell_type": "code",
      "execution_count": null,
      "metadata": {
        "id": "1I0mo6JDjCV3"
      },
      "outputs": [],
      "source": [
        "ggplot(diamonds, aes(x-carat, y=price, color=cut)) + geom_point(alpha=0.4, size=1) + theme_minimal()"
      ]
    },
    {
      "cell_type": "markdown",
      "metadata": {
        "id": "vDdiR2uSjCV3"
      },
      "source": [
        "## Two discrete variables\n",
        "To study covariation between two discrete variables, we can count the number of observations for each combination of values:"
      ]
    },
    {
      "cell_type": "code",
      "execution_count": null,
      "metadata": {
        "id": "0g7gq8OgjCV3"
      },
      "outputs": [],
      "source": [
        "xtabs(~color+cut,diamonds) %>% prop.table %>% round(3)"
      ]
    },
    {
      "cell_type": "markdown",
      "metadata": {
        "id": "HH8zL0p5jCV3"
      },
      "source": [
        "Another type of plot you will see often (especially in bio) is a heat map:"
      ]
    },
    {
      "cell_type": "code",
      "execution_count": null,
      "metadata": {
        "id": "WNDI41fojCV3"
      },
      "outputs": [],
      "source": [
        "diamond_counts <- diamonds %>% count(cut, color)\n",
        "ggplot(diamond_counts, aes(x=color, y=cut, fill=n)) + geom_tile(color=\"white\") + scale_fill_gradient(low=\"lightyellow\", high=\"steelblue\")"
      ]
    },
    {
      "cell_type": "markdown",
      "metadata": {
        "id": "sMo6odBzjCV3"
      },
      "source": [
        "## Two continuous variables\n",
        "Finally, if we're studying the covariation between two continuous variables, we have several options:\n",
        "- Scatter plot (`geom_point`)\n",
        "- Binning (`geom_bin2d`/`geom_hex`)\n",
        "- Contour/bivariate density (`geom_density_2d`)"
      ]
    },
    {
      "cell_type": "code",
      "execution_count": null,
      "metadata": {
        "id": "oUksIwpajCV3"
      },
      "outputs": [],
      "source": []
    },
    {
      "cell_type": "markdown",
      "metadata": {
        "id": "WwM_GEHrjCV3"
      },
      "source": [
        "## Three or more variables\n",
        "Sometimes we even want to study the covariance among of three or more variables. Visualizing >2 dimensional data is, in general, challenging. The best solution tends to depend on the problem at hand."
      ]
    },
    {
      "cell_type": "markdown",
      "metadata": {
        "id": "vrdNudXYjCV4"
      },
      "source": [
        "## Speed of light\n",
        "Let's consider covariation between all three variables in `morley`:"
      ]
    },
    {
      "cell_type": "code",
      "execution_count": null,
      "metadata": {
        "id": "Qhb48voqjCV4"
      },
      "outputs": [],
      "source": []
    },
    {
      "cell_type": "markdown",
      "metadata": {
        "id": "BZmmztS7jCV4"
      },
      "source": [
        "## Millenials\n",
        "Let's use these techniques to explore a data set released by the [Pew Research Center](https://www.pewsocialtrends.org/2010/02/24/millennials-confident-connected-open-to-change/) on ... millennials!\n",
        "\n",
        "![millennials](https://images2.minutemediacdn.com/image/upload/c_crop,h_1189,w_2119,x_0,y_225/f_auto,q_auto,w_1100/v1561494201/shape/mentalfloss/586493-istock-862201574.jpg)"
      ]
    },
    {
      "cell_type": "code",
      "execution_count": null,
      "metadata": {
        "id": "wFCvSBg5jCV4"
      },
      "outputs": [],
      "source": []
    },
    {
      "cell_type": "markdown",
      "metadata": {
        "id": "j95fZDZhjCV4"
      },
      "source": [
        "Each column of the data corresponds to one of the question asked during the survey. You can find the full script [here](https://docs.google.com/file/d/14U2-rS_ljS7kH97PMFqmNMKDwefSL5AS/edit?usp=docslist_api&filetype=msword)."
      ]
    },
    {
      "cell_type": "markdown",
      "metadata": {
        "id": "_H8EdGZ6jCV4"
      },
      "source": [
        "## 🤔 Ages\n",
        "\n",
        "What would be a good way to visualize `mil$age`?\n",
        "\n",
        "<ol style=\"list-style-type: upper-alpha;\">\n",
        "    <li>Histogram</li>\n",
        "    <li>Scatter plot</li>\n",
        "    <li>Line plot</li>\n",
        "    <li>Density plot</li>\n",
        "    <li>Something else</li>\n",
        "</ol>"
      ]
    },
    {
      "cell_type": "code",
      "execution_count": null,
      "metadata": {
        "id": "ibNVkzSUjCV4"
      },
      "outputs": [],
      "source": []
    },
    {
      "cell_type": "markdown",
      "metadata": {
        "id": "1bwbEeg8jCV4"
      },
      "source": [
        "## 🤔 Geography\n",
        "\n",
        "What would be a good way to visualize `mil$state`?\n",
        "\n",
        "<ol style=\"list-style-type: upper-alpha;\">\n",
        "    <li>Histogram</li>\n",
        "    <li>Bar plot</li>\n",
        "    <li>Scatter plot</li>\n",
        "    <li>Line plot</li>\n",
        "    <li>Something else</li>\n",
        "</ol>"
      ]
    },
    {
      "cell_type": "code",
      "execution_count": null,
      "metadata": {
        "id": "r4v6w5lxjCV4"
      },
      "outputs": [],
      "source": []
    },
    {
      "cell_type": "markdown",
      "metadata": {
        "id": "aTiZLw33jCV5"
      },
      "source": [
        "## Life goals\n",
        "Columns `q8a-q8h` ask the respondents to rate the importance of:\n",
        "\n",
        "    a.  Being successful in a high-paying career or profession\n",
        "    b.  Having a successful marriage\n",
        "    c.  Living a very religious life\n",
        "    d.  Being a good parent\n",
        "    e.  Having lots of free time to relax or do things you want to do\n",
        "    f.  Becoming famous\n",
        "    g.  Helping other people who are in need\n",
        "    h.  Owning your own home\n",
        "    \n",
        "The response scale is:\n",
        "\n",
        "    1 One of the most important things\n",
        "    2 Very important but not the most\n",
        "    3 Somewhat important\n",
        "    4 Not important\n",
        "    9 Don’t know/Refused (VOL.)\n",
        "    \n",
        "What is a good way to summarize these responses?"
      ]
    },
    {
      "cell_type": "code",
      "execution_count": null,
      "metadata": {
        "id": "y2JrBI8ojCV5"
      },
      "outputs": [],
      "source": []
    },
    {
      "cell_type": "markdown",
      "metadata": {
        "id": "l11Pn1snjCV5"
      },
      "source": [
        "## Social networking\n",
        "\n",
        "    Q.20\tHow often do you visit the social networking site you use most often… several times a day, about once a day, every few days, once a week or less often?\n",
        "    \n",
        "What sort of variable is this (`mil$q20`)? How should we visualize it?"
      ]
    },
    {
      "cell_type": "code",
      "execution_count": null,
      "metadata": {
        "id": "w60A9AB7jCV5"
      },
      "outputs": [],
      "source": []
    },
    {
      "cell_type": "markdown",
      "metadata": {
        "id": "SlA0bRSajCV5"
      },
      "source": [
        "## Beyond plotting\n",
        "Some other EDA tools that are useful:\n",
        "- Dimensionality reduction (e.g. PCA)\n",
        "- Missing value analysis"
      ]
    },
    {
      "cell_type": "markdown",
      "metadata": {
        "id": "Im_mcBaEjCV5"
      },
      "source": [
        "## Flights data\n",
        "- In the next slide, we will analyze a dataset of information about flights.\n",
        "- Here we will analyze a pre-formatted version."
      ]
    },
    {
      "cell_type": "code",
      "execution_count": null,
      "metadata": {
        "id": "t7JRVMh_jCV5"
      },
      "outputs": [],
      "source": []
    },
    {
      "cell_type": "markdown",
      "metadata": {
        "id": "qoY1tneJjCV5"
      },
      "source": [
        "## Dimensionality reduction\n",
        "- For each flight we have a lot of data.\n",
        "- How to make sense of it all?\n",
        "- Idea: embed each data point in a lower-dimensional space."
      ]
    },
    {
      "cell_type": "code",
      "execution_count": null,
      "metadata": {
        "id": "6grEM4nXjCV6"
      },
      "outputs": [],
      "source": []
    },
    {
      "cell_type": "code",
      "execution_count": null,
      "metadata": {
        "id": "61BiH7UOjCV6"
      },
      "outputs": [],
      "source": []
    },
    {
      "cell_type": "markdown",
      "metadata": {
        "id": "L_RnBTR_jCV6"
      },
      "source": [
        "## Missing data analysis\n",
        "- Missing data may indicate something important."
      ]
    },
    {
      "cell_type": "code",
      "execution_count": null,
      "metadata": {
        "id": "U0WlpJm5jCV6"
      },
      "outputs": [],
      "source": []
    },
    {
      "cell_type": "markdown",
      "metadata": {
        "id": "oCetCUN4jCV6"
      },
      "source": [
        "What (if anything) do these missing values mean?"
      ]
    },
    {
      "cell_type": "code",
      "execution_count": null,
      "metadata": {
        "id": "uR6p0ujkjCV6"
      },
      "outputs": [],
      "source": []
    },
    {
      "cell_type": "code",
      "execution_count": null,
      "metadata": {
        "id": "jyzy1GeBjCV6"
      },
      "outputs": [],
      "source": []
    },
    {
      "cell_type": "code",
      "execution_count": null,
      "metadata": {
        "id": "KOYxRgwujCV6"
      },
      "outputs": [],
      "source": []
    }
  ],
  "metadata": {
    "celltoolbar": "Slideshow",
    "kernelspec": {
      "display_name": "R",
      "language": "R",
      "name": "ir"
    },
    "language_info": {
      "codemirror_mode": {
        "name": "ipython",
        "version": 3
      },
      "file_extension": ".py",
      "mimetype": "text/x-python",
      "name": "python",
      "nbconvert_exporter": "python",
      "pygments_lexer": "ipython3",
      "version": "3.12.3"
    },
    "colab": {
      "provenance": [],
      "include_colab_link": true
    }
  },
  "nbformat": 4,
  "nbformat_minor": 0
}